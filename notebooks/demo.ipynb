{
 "cells": [
  {
   "cell_type": "code",
   "execution_count": null,
   "id": "ed8e3634-3e43-4d23-a881-d1d4201016c5",
   "metadata": {
    "scrolled": true
   },
   "outputs": [],
   "source": [
    "from articulatory_coding import load_model\n",
    "import soundfile as sf\n",
    "import IPython.display as ipd\n",
    "import matplotlib.pyplot as plt"
   ]
  },
  {
   "cell_type": "code",
   "execution_count": null,
   "id": "9f08948f-bf44-42e9-b039-88194ac4ed14",
   "metadata": {},
   "outputs": [],
   "source": [
    "coder = load_model(\"en\", device= \"cpu\")"
   ]
  },
  {
   "cell_type": "markdown",
   "id": "d7b16736-1ee7-4dce-b0aa-d51110548641",
   "metadata": {},
   "source": [
    "# Resynthesis"
   ]
  },
  {
   "cell_type": "code",
   "execution_count": null,
   "id": "a79ba12e-2f91-41b5-8b94-88ceb52a33cf",
   "metadata": {},
   "outputs": [],
   "source": [
    "wav_file  = '../sample_audio/sample1.wav'"
   ]
  },
  {
   "cell_type": "code",
   "execution_count": null,
   "id": "00e0c6c7-e456-4cff-b573-9504d03ab88a",
   "metadata": {},
   "outputs": [],
   "source": [
    "# EMA channel_label = ['TDX','TDY','TBX','TBY','TTX','TTY','LIX','LIY','ULX','ULY','LLX','LLY']\n",
    "code = coder.encode(wav_file)"
   ]
  },
  {
   "cell_type": "code",
   "execution_count": null,
   "id": "049fa173-cd75-4237-b317-b9701e258791",
   "metadata": {},
   "outputs": [],
   "source": [
    "wav = coder.decode(**code)"
   ]
  },
  {
   "cell_type": "code",
   "execution_count": null,
   "id": "f71433ca-f229-4b41-b440-cc4062e79294",
   "metadata": {},
   "outputs": [],
   "source": [
    "# resynthesized\n",
    "ipd.display(ipd.Audio(wav, rate=coder.sr))"
   ]
  },
  {
   "cell_type": "code",
   "execution_count": null,
   "id": "174cda31-3b6d-4add-9c99-3df8f96165f6",
   "metadata": {
    "scrolled": true
   },
   "outputs": [],
   "source": [
    "# ground truth reference\n",
    "wavt,tsr = sf.read(wav_file)\n",
    "ipd.display(ipd.Audio(wavt, rate=tsr))"
   ]
  },
  {
   "cell_type": "markdown",
   "id": "c6e16490-ffb9-4431-b602-e75f07d7ea41",
   "metadata": {
    "tags": []
   },
   "source": [
    "# Voice Conversion"
   ]
  },
  {
   "cell_type": "code",
   "execution_count": null,
   "id": "25d16905-e5b3-4690-b879-b2c7258d250c",
   "metadata": {},
   "outputs": [],
   "source": [
    "src_wav_file = \"../sample_audio/sample1.wav\"\n",
    "trg_wav_file = \"../sample_audio/sample2.wav\""
   ]
  },
  {
   "cell_type": "code",
   "execution_count": null,
   "id": "f004f691-f9ee-446a-ba06-05a5bd044fef",
   "metadata": {},
   "outputs": [],
   "source": [
    "converted_wav = coder.convert(src_wav_file, trg_wav_file)"
   ]
  },
  {
   "cell_type": "code",
   "execution_count": null,
   "id": "179379f8-6616-4d49-865c-364ffc431f82",
   "metadata": {},
   "outputs": [],
   "source": [
    "# converted\n",
    "ipd.display(ipd.Audio(converted_wav, rate=coder.sr))"
   ]
  },
  {
   "cell_type": "code",
   "execution_count": null,
   "id": "43e97d50-2ebf-4fb4-bd83-fc673b2b2609",
   "metadata": {},
   "outputs": [],
   "source": [
    "src_code = coder.encode(src_wav_file)"
   ]
  },
  {
   "cell_type": "code",
   "execution_count": null,
   "id": "37d1b009-bd78-42ce-8c31-c925c606dcf3",
   "metadata": {},
   "outputs": [],
   "source": [
    "converted_code = coder.encode(converted_wav)"
   ]
  },
  {
   "cell_type": "code",
   "execution_count": null,
   "id": "d7810cf9-6881-48aa-bc28-134c37c8453e",
   "metadata": {},
   "outputs": [],
   "source": [
    "# Articulatory traces remain consistent after voice conversion.\n",
    "plt.plot(src_code['ema'][:,5])\n",
    "plt.plot(converted_code['ema'][:,5])"
   ]
  },
  {
   "cell_type": "code",
   "execution_count": null,
   "id": "a89fe8c5-47f8-4bb1-8924-a02809c7d4ad",
   "metadata": {},
   "outputs": [],
   "source": [
    "# source audio\n",
    "src_wav,sr = sf.read(src_wav_file)\n",
    "ipd.display(ipd.Audio(src_wav, rate=sr))"
   ]
  },
  {
   "cell_type": "code",
   "execution_count": null,
   "id": "727464b9-1946-4a4e-a97a-cc285626f3b5",
   "metadata": {},
   "outputs": [],
   "source": [
    "# target audio\n",
    "trg_wav,sr = sf.read(trg_wav_file)\n",
    "ipd.display(ipd.Audio(trg_wav, rate=sr))"
   ]
  },
  {
   "cell_type": "markdown",
   "id": "d4f9b1fd-6420-4162-8e49-3b32d7707650",
   "metadata": {},
   "source": [
    "# Unseen Language"
   ]
  },
  {
   "cell_type": "code",
   "execution_count": null,
   "id": "c8c1aaf0-2906-47d6-978a-8e63a20ccf4e",
   "metadata": {},
   "outputs": [],
   "source": [
    "wav_file = \"../sample_audio/italian.wav\""
   ]
  },
  {
   "cell_type": "code",
   "execution_count": null,
   "id": "fa5c5efd-bb1c-476c-8bd1-e17e2e671e80",
   "metadata": {},
   "outputs": [],
   "source": [
    "code = coder.encode(wav_file)"
   ]
  },
  {
   "cell_type": "code",
   "execution_count": null,
   "id": "7cd2b558-2579-4a97-b7b1-98a0a9737f7d",
   "metadata": {},
   "outputs": [],
   "source": [
    "wav = coder.decode(**code)"
   ]
  },
  {
   "cell_type": "code",
   "execution_count": null,
   "id": "21b91f3b-7f56-47a8-be5a-b19cac846ea8",
   "metadata": {},
   "outputs": [],
   "source": [
    "# resynthesized\n",
    "ipd.display(ipd.Audio(wav, rate=coder.sr))"
   ]
  },
  {
   "cell_type": "code",
   "execution_count": null,
   "id": "c57fdbbb-ced2-433a-9ed1-a02c1e56bca7",
   "metadata": {},
   "outputs": [],
   "source": [
    "# ground truth reference\n",
    "wavt,tsr = sf.read(wav_file)\n",
    "ipd.display(ipd.Audio(wavt, rate=tsr))"
   ]
  }
 ],
 "metadata": {
  "kernelspec": {
   "display_name": "asp",
   "language": "python",
   "name": "asp"
  },
  "language_info": {
   "codemirror_mode": {
    "name": "ipython",
    "version": 3
   },
   "file_extension": ".py",
   "mimetype": "text/x-python",
   "name": "python",
   "nbconvert_exporter": "python",
   "pygments_lexer": "ipython3",
   "version": "3.8.20"
  }
 },
 "nbformat": 4,
 "nbformat_minor": 5
}
